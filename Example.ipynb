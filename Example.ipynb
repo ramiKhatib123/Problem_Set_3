{
  "nbformat": 4,
  "nbformat_minor": 0,
  "metadata": {
    "colab": {
      "provenance": []
    },
    "kernelspec": {
      "name": "python3",
      "display_name": "Python 3"
    },
    "language_info": {
      "name": "python"
    }
  },
  "cells": [
    {
      "cell_type": "code",
      "execution_count": 13,
      "metadata": {
        "id": "dFCP2yTiWLpD"
      },
      "outputs": [],
      "source": [
        "from Build_data import build_data\n",
        "from Neural_Network import NNN\n",
        "import numpy as np\n"
      ]
    },
    {
      "cell_type": "code",
      "source": [
        "X_train, X_test, y_train, y_test = build_data()"
      ],
      "metadata": {
        "id": "JI-RWgJ2WNT-"
      },
      "execution_count": 14,
      "outputs": []
    },
    {
      "cell_type": "code",
      "source": [
        "y_train = y_train.values.reshape(-1, 1)\n",
        "y_test = y_test.values.reshape(-1, 1)"
      ],
      "metadata": {
        "id": "qNGhqsmnWznd"
      },
      "execution_count": 16,
      "outputs": []
    },
    {
      "cell_type": "code",
      "source": [
        "nn = NNN(input_size=X_train.shape[1], hidden_sizes=[8,4,2], output_size=1, learning_rate=0.00001)\n",
        "\n",
        "# Train the model\n",
        "nn.train(X_train, y_train, epochs=3000)"
      ],
      "metadata": {
        "colab": {
          "base_uri": "https://localhost:8080/"
        },
        "id": "TlSj1HP7W3yj",
        "outputId": "0feab41d-862d-43be-b707-a207fb5b2052"
      },
      "execution_count": 160,
      "outputs": [
        {
          "output_type": "stream",
          "name": "stdout",
          "text": [
            "Epoch 0, Accuracy: 0.00%\n",
            "Epoch 100, Accuracy: 64.86%\n",
            "Epoch 200, Accuracy: 69.01%\n",
            "Epoch 300, Accuracy: 70.29%\n",
            "Epoch 400, Accuracy: 69.97%\n",
            "Epoch 500, Accuracy: 70.93%\n",
            "Epoch 600, Accuracy: 72.52%\n",
            "Epoch 700, Accuracy: 73.48%\n",
            "Epoch 800, Accuracy: 73.80%\n",
            "Epoch 900, Accuracy: 73.48%\n",
            "Epoch 1000, Accuracy: 73.16%\n",
            "Epoch 1100, Accuracy: 73.48%\n",
            "Epoch 1200, Accuracy: 73.48%\n",
            "Epoch 1300, Accuracy: 73.16%\n",
            "Epoch 1400, Accuracy: 73.16%\n",
            "Epoch 1500, Accuracy: 73.16%\n",
            "Epoch 1600, Accuracy: 73.80%\n",
            "Epoch 1700, Accuracy: 73.80%\n",
            "Epoch 1800, Accuracy: 73.16%\n",
            "Epoch 1900, Accuracy: 73.48%\n",
            "Epoch 2000, Accuracy: 74.12%\n",
            "Epoch 2100, Accuracy: 74.12%\n",
            "Epoch 2200, Accuracy: 74.12%\n",
            "Epoch 2300, Accuracy: 71.88%\n",
            "Epoch 2400, Accuracy: 73.16%\n",
            "Epoch 2500, Accuracy: 74.44%\n",
            "Epoch 2600, Accuracy: 74.44%\n",
            "Epoch 2700, Accuracy: 73.80%\n",
            "Epoch 2800, Accuracy: 74.12%\n",
            "Epoch 2900, Accuracy: 74.76%\n"
          ]
        }
      ]
    },
    {
      "cell_type": "code",
      "source": [
        "# Make predictions on the test set\n",
        "y_pred = nn.test(X_test)\n",
        "\n",
        "# Compute accuracy using the tolerance (default is 10%)\n",
        "tolerance = 0.1  # 10% tolerance\n",
        "accuracy = nn.compute_accuracy(y_test.reshape(-1, 1), y_pred, tolerance=tolerance)\n",
        "\n",
        "# Print accuracy\n",
        "print(f\"Test Set Accuracy: {accuracy:.2f}%\")\n"
      ],
      "metadata": {
        "colab": {
          "base_uri": "https://localhost:8080/"
        },
        "id": "3u2h5tftZMSN",
        "outputId": "b1e32392-c584-4409-c155-93d82b41026d"
      },
      "execution_count": 161,
      "outputs": [
        {
          "output_type": "stream",
          "name": "stdout",
          "text": [
            "Test Set Accuracy: 75.95%\n"
          ]
        }
      ]
    }
  ]
}